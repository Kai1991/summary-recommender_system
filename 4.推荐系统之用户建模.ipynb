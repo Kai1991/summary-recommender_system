{
 "cells": [
  {
   "cell_type": "markdown",
   "metadata": {},
   "source": [
    "### 概要\n",
    "\n",
    "* 分类模型应用\n",
    "    * 点击率预估\n",
    "    * 用户偏好模型\n",
    "\n",
    "* 模型构建\n",
    "    * 线性模型\n",
    "    * 非线性模型\n",
    "    * 模型融合\n",
    "    * 特征工程\n",
    "\n",
    "* AutoML\n",
    "\n",
    "* 实战： Wid&Deep 模型实战"
   ]
  },
  {
   "cell_type": "markdown",
   "metadata": {},
   "source": [
    "### 分类模型应用\n",
    "\n",
    "* 点击率预估模型：\n",
    "    * 训练注意事项：如果ad_pv 大于K使用自己的ctr,如果小于使用 类目的ctr\n",
    "        * $  y = \\begin{cases} ad ctr, & ad pv > K \\\\ cat ctr, & ad pv < K \\end{cases} $\n",
    "        \n",
    "    * 使用简单的逻辑回归 计算分类\n",
    "    \n",
    "    * 使用交叉熵损失函数为目标函数：\n",
    "        * 交叉熵损失损失函数：$ C(y,\\hat y) = -y log \\hat y - (1-y)log(1-\\hat y) $\n",
    "        \n",
    "* 用户偏好模型\n",
    "\n",
    "    * 问题：用户偏好模型是预测用户下一个浏览或者购买的泪目，性别预测，年龄预测等\n",
    "    \n",
    "    * 问题抽象： 基于时序行为的二分类模型\n",
    "        * 使用的特征： 统计量特征，变化类特征()，序列类特征,人工组合特征（加减乘除）\n",
    "        *  模型用户发：作单独模型，做紧feature"
   ]
  },
  {
   "cell_type": "markdown",
   "metadata": {},
   "source": [
    "### 模型构建\n",
    "\n",
    "* 线性模型\n",
    "\n",
    "    * LR \n",
    "    \n",
    "        *  简单，多做特征\n",
    "\n",
    "\n",
    "* 非线性模型\n",
    "    \n",
    "    * 决策树家族\n",
    "    \n",
    "    * FM 模型\n",
    "    \n",
    "    * DNN 神经网络模型\n",
    "    \n",
    "* 模型融合\n",
    "\n",
    "* 特征工程：\n",
    "    * 特征类型：\n",
    "        * 相关类特征，属性，与用户相关的特征\n",
    "        * 环境特征\n",
    "        * 热度特征\n",
    "        * 协同类特征：\n",
    "    * 特征组合："
   ]
  },
  {
   "cell_type": "markdown",
   "metadata": {},
   "source": [
    "### AutoML\n",
    "\n",
    "* "
   ]
  },
  {
   "cell_type": "markdown",
   "metadata": {},
   "source": [
    "###  实战： Wid&Deep 模型实战"
   ]
  },
  {
   "cell_type": "code",
   "execution_count": null,
   "metadata": {},
   "outputs": [],
   "source": []
  },
  {
   "cell_type": "code",
   "execution_count": null,
   "metadata": {},
   "outputs": [],
   "source": []
  }
 ],
 "metadata": {
  "kernelspec": {
   "display_name": "Python 3",
   "language": "python",
   "name": "python3"
  },
  "language_info": {
   "codemirror_mode": {
    "name": "ipython",
    "version": 3
   },
   "file_extension": ".py",
   "mimetype": "text/x-python",
   "name": "python",
   "nbconvert_exporter": "python",
   "pygments_lexer": "ipython3",
   "version": "3.6.5"
  }
 },
 "nbformat": 4,
 "nbformat_minor": 2
}
