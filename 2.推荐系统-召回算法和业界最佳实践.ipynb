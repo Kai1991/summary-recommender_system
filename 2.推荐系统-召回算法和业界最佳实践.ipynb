{
 "cells": [
  {
   "cell_type": "markdown",
   "metadata": {},
   "source": [
    "### 大纲\n",
    "\n",
    "* 推荐系统的召回（match）模块简介\n",
    "\n",
    "* 协同过滤算法（Collaborative Filtering ）简介\n",
    "\n",
    "* Model Based CF \n",
    "\n",
    "    * SVD\n",
    "    * FM\n",
    "    \n",
    "* 实战：Movielens上的FM模型Tensorflow实现"
   ]
  },
  {
   "cell_type": "markdown",
   "metadata": {},
   "source": [
    "### 推荐系统召回模块"
   ]
  },
  {
   "cell_type": "markdown",
   "metadata": {},
   "source": [
    "* 召回：从产品库中尽可能多的获取与用户相关的产品\n",
    "\n",
    "    * 使用多个模型进行融合，从不同方向召回用户相关的产品\n",
    "    \n",
    "* 排序：引入更细致的内容，比如ctr,cvr 进行进行排序"
   ]
  },
  {
   "cell_type": "markdown",
   "metadata": {},
   "source": [
    "### 协同过滤算法（CF）"
   ]
  },
  {
   "cell_type": "markdown",
   "metadata": {},
   "source": [
    "* CF :  通过收集很多人的信息，预测用户的兴趣\n",
    "\n",
    "    * 数学形式：对用户和产品形成的打分矩阵进行补全\n",
    "\n",
    "* User-based CF\n",
    "\n",
    "    * UCF : 挖掘用户和用户的有相同历史行为，召回与目标用户没有历史行为，而相似用户有行为的商品\n",
    "    \n",
    "    * 特点：新颖性好，准确性差\n",
    "    \n",
    "* Item-based CF :\n",
    "    \n",
    "    * 利用用户历史行为，挖掘 item和item直线的关系，然后根据用户历史行为产生推荐列表\n",
    "    * 相比user-based CF 应用场景更广\n",
    "    \n",
    "* 衡量相似度的手段：\n",
    "\n",
    "    * 余弦相似度：$ cos(\\overrightarrow A,\\overrightarrow B) = {\\overrightarrow A \\overrightarrow B\\over  ||  \\overrightarrow A || ||  \\overrightarrow B || }$  \n",
    "    \n",
    "    * 皮尔逊相关系数\n",
    "    \n",
    "    * 切比雪夫距离\n",
    "    \n",
    "    * 明氏距离\n",
    "    \n",
    "* 距离计算优化：\n",
    "\n",
    "    * 如果是 User-based CF 建立以Item为key的到排表 只计算与此key有关的用户的关系\n",
    "    * 如果是 Item-based CF 建立以IUser为key的到排表 只计算与此key有关的Item的关系\n",
    "    \n",
    "* Item-based CF 问题和改进：\n",
    "    \n",
    "    * 问题：\n",
    "        * 热门用户：\n",
    "        * 哈利波特效应：某item 比较畅销，导致这个item和每个item都有关系，最后都推荐这个畅销的item\n",
    "        * 对用户行为缺乏考虑 ：信息比较少\n",
    "        * item冷启动问题：使用实时I2I解决\n",
    "        \n",
    "     * 热门用户解决方式：\n",
    "         \n",
    "         * $ w_{ij} = { \\sum_{N(i) \\bigcap N(j)} {1 \\over log1 + N(i) } \\over \\sqrt{ ||N(i)|| || N(j) || } } $\n",
    "         \n",
    "     * 缓解哈利波特效应：\n",
    "     \n",
    "         *  $ w_ij = { |N(j) \\bigcap N(j)  |  \\over  | N(i) |^{1-\\alpha} |N(j)|^\\alpha } $\n",
    "         \n",
    "        \n",
    "     * 实时 I2I :\n",
    "         实时累加统计量（待总结）\n",
    "         \n",
    "         "
   ]
  },
  {
   "cell_type": "markdown",
   "metadata": {},
   "source": [
    "### 基于模型的协同过滤算法"
   ]
  },
  {
   "cell_type": "markdown",
   "metadata": {},
   "source": [
    "* SVD(矩阵补全，奇异矩阵分解) \n",
    "\n",
    "    * 目标: $ arg min(Y - U\\Sigma V^T)^2 = arg min \\sum^m \\sum^n(y_{ij} - (U\\Sigma V^T)_{ij})^2$\n",
    "     \n",
    "    * 缺点: \n",
    "        * Miss data和观测到数据的权重相同（Miss data 比较较多）\n",
    "        * 没有正则化项，容易过拟合\n",
    "        \n",
    "    * 改进（Matrix Factorization MF 矩阵分解）：\n",
    "    \n",
    "        * 使用 user ensembed 和item ensembed 计算得分(使用交互的数据，没有交互的不用考虑) $ Y_{ui} = V_u^TV_i$\n",
    "        * 目标函数：$ L = \\sum\\sum w_{ui}(Y_{ui} - \\hat Y_{ui})  + \\lambda (\\sum |V_u|^2 + \\sum|V_i|^2)$\n",
    "        \n",
    "     * 进一步改进：\n",
    "         * 上面用userId表示用户，用户ID的向量乘以itemID 的向量有点不协调，可以用用户历史行为表示用户\n",
    "             * $ \\hat y_{ui} = ( \\sum q_j )^T V_i $ \n",
    "             \n",
    "* SVD++ : 融合SVD 和改进思想：\n",
    "    * $ \\hat y_{ui} = (V_u  + \\sum q_j )^T V_i $ \n",
    "    \n",
    "    \n",
    "* 进一步融合信息进入模型：\n",
    "    \n",
    "\n",
    "* FM（Factorization Machines ）\n",
    "\n",
    "    * 每个特征都可以表示成 embedding vector ,并且构造二阶关系\n",
    "    * FM允许更多的特征工程，并且 前面的模型都是特殊的FM\n",
    "    \n",
    "    * 公式表达：$ \\hat y(x) = w_0 + \\sum w_ix_i. +\\sum_{i=1}\\sum_{j > i}<v_i,v_j>x_ix_j $\n",
    "    \n",
    "    \n",
    "* 排序算法的优化目标：$ L_{BPR} = arg max \\sum ln \\sigma( \\hat y_{ui} - \\hat y_{ui} ) - \\lambda |\\theta|^2 $\n",
    "    \n",
    "    \n",
    "    \n",
    "    \n",
    "    \n",
    "    "
   ]
  },
  {
   "cell_type": "markdown",
   "metadata": {},
   "source": [
    "### 实战"
   ]
  },
  {
   "cell_type": "code",
   "execution_count": null,
   "metadata": {},
   "outputs": [],
   "source": [
    "\n",
    "\n",
    "\n"
   ]
  }
 ],
 "metadata": {
  "kernelspec": {
   "display_name": "Python 3",
   "language": "python",
   "name": "python3"
  },
  "language_info": {
   "codemirror_mode": {
    "name": "ipython",
    "version": 3
   },
   "file_extension": ".py",
   "mimetype": "text/x-python",
   "name": "python",
   "nbconvert_exporter": "python",
   "pygments_lexer": "ipython3",
   "version": "3.6.5"
  }
 },
 "nbformat": 4,
 "nbformat_minor": 2
}
